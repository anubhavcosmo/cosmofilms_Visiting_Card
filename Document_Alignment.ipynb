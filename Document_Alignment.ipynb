{
 "cells": [
  {
   "cell_type": "code",
   "execution_count": null,
   "metadata": {},
   "outputs": [],
   "source": []
  },
  {
   "cell_type": "code",
   "execution_count": 2,
   "metadata": {},
   "outputs": [],
   "source": [
    "# import the necessary packages\n",
    "import numpy as np\n",
    "import imutils\n",
    "import cv2"
   ]
  },
  {
   "cell_type": "code",
   "execution_count": null,
   "metadata": {},
   "outputs": [],
   "source": [
    "def align_images(image, template, maxFeatures=500, keepPercent=0.2,debug=False):\n",
    "    # convert both the input image and template to grayscale\n",
    "    imageGray = cv2.cvtColor(image, cv2.COLOR_BGR2GRAY)\n",
    "    templateGray = cv2.cvtColor(template, cv2.COLOR_BGR2GRAY)\n",
    "    # use ORB to detect keypoints and extract (binary) local\n",
    "    # invariant features\n",
    "    orb = cv2.ORB_create(maxFeatures)\n",
    "    (kpsA, descsA) = orb.detectAndCompute(imageGray, None)\n",
    "    (kpsB, descsB) = orb.detectAndCompute(templateGray, None)\n",
    "    # match the features\n",
    "    method = cv2.DESCRIPTOR_MATCHER_BRUTEFORCE_HAMMING\n",
    "    matcher = cv2.DescriptorMatcher_create(method)\n",
    "    matches = matcher.match(descsA, descsB, None)\n",
    "    # sort the matches by their distance (the smaller the distance,\n",
    "    # the \"more similar\" the features are)\n",
    "    matches = sorted(matches, key=lambda x:x.distance)\n",
    "    # keep only the top matches\n",
    "    keep = int(len(matches) * keepPercent)\n",
    "    matches = matches[:keep]\n",
    "    # check to see if we should visualize the matched keypoints\n",
    "    if debug:\n",
    "        matchedVis = cv2.drawMatches(image, kpsA, template, kpsB,matches, None)\n",
    "        matchedVis = imutils.resize(matchedVis, width=1000)\n",
    "        cv2.imshow(\"Matched Keypoints\", matchedVis)\n",
    "        cv2.waitKey(0)"
   ]
  },
  {
   "cell_type": "code",
   "execution_count": null,
   "metadata": {},
   "outputs": [],
   "source": []
  },
  {
   "cell_type": "code",
   "execution_count": null,
   "metadata": {},
   "outputs": [],
   "source": []
  },
  {
   "cell_type": "code",
   "execution_count": null,
   "metadata": {},
   "outputs": [],
   "source": []
  },
  {
   "cell_type": "code",
   "execution_count": null,
   "metadata": {},
   "outputs": [],
   "source": []
  },
  {
   "cell_type": "code",
   "execution_count": null,
   "metadata": {},
   "outputs": [],
   "source": []
  }
 ],
 "metadata": {
  "kernelspec": {
   "display_name": "Python 3",
   "language": "python",
   "name": "python3"
  },
  "language_info": {
   "codemirror_mode": {
    "name": "ipython",
    "version": 3
   },
   "file_extension": ".py",
   "mimetype": "text/x-python",
   "name": "python",
   "nbconvert_exporter": "python",
   "pygments_lexer": "ipython3",
   "version": "3.7.9"
  }
 },
 "nbformat": 4,
 "nbformat_minor": 4
}
