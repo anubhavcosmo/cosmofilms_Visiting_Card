{
 "cells": [
  {
   "cell_type": "code",
   "execution_count": null,
   "metadata": {},
   "outputs": [],
   "source": [
    "#https://www.opcito.com/blogs/extracting-text-from-images-with-tesseract-ocr-opencv-and-python/"
   ]
  },
  {
   "cell_type": "code",
   "execution_count": 1,
   "metadata": {},
   "outputs": [],
   "source": [
    "# importing modules\n",
    "import cv2\n",
    "import pytesseract\n",
    "# reading image using opencv\n",
    "image = cv2.imread('5.jpeg')\n",
    "                   \n",
    "#converting image into gray scale image\n",
    "gray_image = cv2.cvtColor(image, cv2.COLOR_BGR2GRAY)\n",
    "# converting it to binary image by Thresholding\n",
    "# this step is require if you have colored image because if you skip this part \n",
    "# then tesseract won't able to detect text correctly and th0is will give incorrect result\n",
    "threshold_img = cv2.threshold(gray_image, 0, 255, cv2.THRESH_BINARY | cv2.THRESH_OTSU)[1]\n",
    "# display image\n",
    "cv2.imshow('threshold image', threshold_img)\n",
    "# Maintain output window until user presses a key\n",
    "cv2.waitKey(0)\n",
    "# Destroying present windows on screen\n",
    "cv2.destroyAllWindows()"
   ]
  },
  {
   "cell_type": "code",
   "execution_count": 2,
   "metadata": {},
   "outputs": [
    {
     "ename": "NameError",
     "evalue": "name 'Output' is not defined",
     "output_type": "error",
     "traceback": [
      "\u001b[1;31m---------------------------------------------------------------------------\u001b[0m",
      "\u001b[1;31mNameError\u001b[0m                                 Traceback (most recent call last)",
      "\u001b[1;32m<ipython-input-2-0979c81c92fa>\u001b[0m in \u001b[0;36m<module>\u001b[1;34m\u001b[0m\n\u001b[0;32m      3\u001b[0m \u001b[1;33m\u001b[0m\u001b[0m\n\u001b[0;32m      4\u001b[0m \u001b[1;31m# now feeding image to tesseract\u001b[0m\u001b[1;33m\u001b[0m\u001b[1;33m\u001b[0m\u001b[1;33m\u001b[0m\u001b[0m\n\u001b[1;32m----> 5\u001b[1;33m \u001b[0mdetails\u001b[0m \u001b[1;33m=\u001b[0m \u001b[0mpytesseract\u001b[0m\u001b[1;33m.\u001b[0m\u001b[0mimage_to_data\u001b[0m\u001b[1;33m(\u001b[0m\u001b[0mthreshold_img\u001b[0m\u001b[1;33m,\u001b[0m \u001b[0moutput_type\u001b[0m\u001b[1;33m=\u001b[0m\u001b[0mOutput\u001b[0m\u001b[1;33m.\u001b[0m\u001b[0mDICT\u001b[0m\u001b[1;33m,\u001b[0m \u001b[0mconfig\u001b[0m\u001b[1;33m=\u001b[0m\u001b[0mcustom_config\u001b[0m\u001b[1;33m,\u001b[0m \u001b[0mlang\u001b[0m\u001b[1;33m=\u001b[0m\u001b[1;34m'eng'\u001b[0m\u001b[1;33m)\u001b[0m\u001b[1;33m\u001b[0m\u001b[1;33m\u001b[0m\u001b[0m\n\u001b[0m\u001b[0;32m      6\u001b[0m \u001b[0mprint\u001b[0m\u001b[1;33m(\u001b[0m\u001b[0mdetails\u001b[0m\u001b[1;33m.\u001b[0m\u001b[0mkeys\u001b[0m\u001b[1;33m(\u001b[0m\u001b[1;33m)\u001b[0m\u001b[1;33m)\u001b[0m\u001b[1;33m\u001b[0m\u001b[1;33m\u001b[0m\u001b[0m\n",
      "\u001b[1;31mNameError\u001b[0m: name 'Output' is not defined"
     ]
    }
   ],
   "source": [
    "#configuring parameters for tesseract\n",
    "custom_config = r'--oem 3 --psm 6 --tessdata-dir \"C:\\\\Users\\\\shashi.bhushan\\\\Anaconda3\\\\envs\\\\tf\\\\tessdata\"'\n",
    "\n",
    "# now feeding image to tesseract\n",
    "details = pytesseract.image_to_data(threshold_img, output_type=Output.DICT, config=custom_config, lang='eng')\n",
    "print(details.keys())"
   ]
  },
  {
   "cell_type": "code",
   "execution_count": 8,
   "metadata": {},
   "outputs": [],
   "source": [
    "total_boxes = len(details['text'])\n",
    "for sequence_number in range(total_boxes):\n",
    "    if int(details['conf'][sequence_number]) >30:\n",
    "        (x, y, w, h) = (details['left'][sequence_number], details['top'][sequence_number], details['width'][sequence_number],  details['height'][sequence_number])\n",
    "        threshold_img = cv2.rectangle(threshold_img, (x, y), (x + w, y + h), (0, 255, 0), 2)\n",
    "# display image\n",
    "cv2.imshow('captured text', threshold_img)\n",
    "# Maintain output window until user presses a key\n",
    "cv2.waitKey(0)\n",
    "# Destroying present windows on screen\n",
    "cv2.destroyAllWindows()"
   ]
  },
  {
   "cell_type": "code",
   "execution_count": 9,
   "metadata": {},
   "outputs": [],
   "source": [
    "parse_text = []\n",
    "word_list = []\n",
    "last_word = ''\n",
    "for word in details['text']:\n",
    "    if word!='':\n",
    "        word_list.append(word)\n",
    "        last_word = word\n",
    "    if (last_word!='' and word == '') or (word==details['text'][-1]):\n",
    "        parse_text.append(word_list)\n",
    "        word_list = []"
   ]
  },
  {
   "cell_type": "code",
   "execution_count": 10,
   "metadata": {
    "scrolled": true
   },
   "outputs": [
    {
     "name": "stdout",
     "output_type": "stream",
     "text": [
      "[['.', 'yin', 'i'], ['Er', '|', 'eScan', '|'], [':', 'Enterprise', 'Security', ';'], ['Choice', ':'], ['of', 'DIGITAL', ':'], ['WORLD', ':'], ['Amar', 'Singh', ':'], ['(Enterprise', 'Sales', '-', 'Delhi', '&', 'NCR)', '.'], ['.', '9873953587', '|'], ['amar@escanav.com'], ['MicroWorld', 'Software', 'Services', 'Pvt.', 'Ltd.'], [], ['_', 'Unit', 'No.', '212/213,', 'Vipul', 'Agora,', 'M.G.Road,', 'Gurgaon,', 'Haryana-122001.'], ['Tel', ':', '0124', '6207200'], [], ['An', 'ISO', '27001', 'Certified', 'Company', 'www.escanav.com']]\n"
     ]
    }
   ],
   "source": [
    "print(parse_text)"
   ]
  },
  {
   "cell_type": "code",
   "execution_count": null,
   "metadata": {},
   "outputs": [],
   "source": []
  },
  {
   "cell_type": "code",
   "execution_count": null,
   "metadata": {},
   "outputs": [],
   "source": []
  }
 ],
 "metadata": {
  "kernelspec": {
   "display_name": "Python 3 (ipykernel)",
   "language": "python",
   "name": "python3"
  },
  "language_info": {
   "codemirror_mode": {
    "name": "ipython",
    "version": 3
   },
   "file_extension": ".py",
   "mimetype": "text/x-python",
   "name": "python",
   "nbconvert_exporter": "python",
   "pygments_lexer": "ipython3",
   "version": "3.9.7"
  }
 },
 "nbformat": 4,
 "nbformat_minor": 4
}
